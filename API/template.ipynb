{
 "cells": [
  {
   "cell_type": "markdown",
   "metadata": {},
   "source": [
    "# Example workflow\n",
    "## [Authenticate](https://docs.lightcast.dev/apis/job-postings#authentication)\n",
    "If you need to request multiple scopes (for instance you are using two separate APIs) you can do by using a space separated list e.g. `scope=postings:us emsi_open`."
   ]
  },
  {
   "cell_type": "code",
   "execution_count": null,
   "metadata": {},
   "outputs": [],
   "source": [
    "import requests\n",
    "from config import *\n",
    "\n",
    "url = \"https://auth.emsicloud.com/connect/token\"\n",
    "\n",
    "payload = f\"client_id={lightcast_client_id}&client_secret={lightcast_client_secret}&grant_type=client_credentials&scope={scopes}\"\n",
    "headers = {'Content-Type': 'application/x-www-form-urlencoded'}\n",
    "\n",
    "response = requests.request(\"POST\", url, data=payload, headers=headers)\n",
    "\n",
    "if response.status_code == 200:\n",
    "    access_token = response.json()[\"access_token\"]\n",
    "    headers = {\n",
    "            'Authorization': f\"Bearer {access_token}\",\n",
    "            'Content-Type': \"application/json\"\n",
    "            }\n",
    "    print(\"Access token set\")\n",
    "\n",
    "else:\n",
    "    print(f\"Request failed {response.status_code}, {response.reason}\")"
   ]
  },
  {
   "cell_type": "code",
   "execution_count": null,
   "metadata": {},
   "outputs": [],
   "source": [
    "url = \"https://emsiservices.com/jpa/distributions/min_years_experience\"\n",
    "\n",
    "payload = {\n",
    "    \"filter\": {\n",
    "        \"when\": \"active\"\n",
    "    },\n",
    "    \"distribution\": {\n",
    "        \"type\": \"histogram\",\n",
    "        \"options\": {\n",
    "            \"interval\": 1,\n",
    "            \"domain\": {\n",
    "                \"min\": 0,\n",
    "                \"max\": 5\n",
    "            }\n",
    "        },\n",
    "        \"metrics\": [\n",
    "            \"unique_postings\",\n",
    "            \"duplicate_postings\"\n",
    "        ]\n",
    "    }\n",
    "}\n",
    "response = requests.request(\"POST\", url, json=payload, headers=headers)\n",
    "\n",
    "print(response.text)"
   ]
  }
 ],
 "metadata": {
  "kernelspec": {
   "display_name": "base",
   "language": "python",
   "name": "python3"
  },
  "language_info": {
   "codemirror_mode": {
    "name": "ipython",
    "version": 3
   },
   "file_extension": ".py",
   "mimetype": "text/x-python",
   "name": "python",
   "nbconvert_exporter": "python",
   "pygments_lexer": "ipython3",
   "version": "3.11.6"
  },
  "orig_nbformat": 4
 },
 "nbformat": 4,
 "nbformat_minor": 2
}
