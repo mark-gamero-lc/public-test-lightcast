{
 "cells": [
  {
   "cell_type": "code",
   "execution_count": null,
   "metadata": {},
   "outputs": [],
   "source": [
    "from snowflake import connector"
   ]
  },
  {
   "cell_type": "code",
   "execution_count": null,
   "metadata": {},
   "outputs": [],
   "source": [
    "reader_account_name = \"READER_NAME\"\n",
    "conn = connector.connect(\n",
    "    user = \"username\",\n",
    "    account = f\"emsibg-{reader_account_name}\",\n",
    "    password = \"password\",\n",
    "    warehouse = \"NAME_WH\"\n",
    ")\n",
    "cur = conn.cursor()"
   ]
  },
  {
   "cell_type": "code",
   "execution_count": null,
   "metadata": {},
   "outputs": [],
   "source": [
    "cur.execute(f\"SELECT * FROM LIGHTCAST.US.POSTINGS_META;\")\n",
    "df = cur.fetch_pandas_all()\n",
    "df"
   ]
  },
  {
   "cell_type": "code",
   "execution_count": null,
   "metadata": {},
   "outputs": [],
   "source": [
    "conn.close()"
   ]
  },
  {
   "cell_type": "code",
   "execution_count": null,
   "metadata": {},
   "outputs": [],
   "source": [
    "df.to_csv(\"./filename.csv\", index=False)"
   ]
  }
 ],
 "metadata": {
  "kernelspec": {
   "display_name": "Python 3.8.8 64-bit",
   "language": "python",
   "name": "python3"
  },
  "language_info": {
   "codemirror_mode": {
    "name": "ipython",
    "version": 3
   },
   "file_extension": ".py",
   "mimetype": "text/x-python",
   "name": "python",
   "nbconvert_exporter": "python",
   "pygments_lexer": "ipython3",
   "version": "3.11.6"
  },
  "orig_nbformat": 4,
  "vscode": {
   "interpreter": {
    "hash": "b5d01458ebe53626aff70594485d66f1d6a7e2d68c7d733cd9fcb44fe973dd0d"
   }
  }
 },
 "nbformat": 4,
 "nbformat_minor": 2
}
